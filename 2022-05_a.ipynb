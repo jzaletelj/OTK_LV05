{
 "cells": [
  {
   "cell_type": "markdown",
   "metadata": {},
   "source": [
    "# Lab 05: Mešano celoštevilsko linearno programiranje v TK\n"
   ]
  },
  {
   "cell_type": "markdown",
   "metadata": {},
   "source": [
    "## Programska oprema /software LPSolve\n",
    "\n",
    "LP Solve rešuje probleme linearnega programiranja. V program zapišemo kriterijsko funkcjo (kateri določimo min / max), omejitve ter po potrebi še definiramo tip naših spremenljivk (bin / int). Program nato sam izračuna vse možne rešitve in jih prikaže. \n",
    "\n",
    "> LPSolve is available for download here:\n",
    "\n",
    "https://sourceforge.net/projects/lpsolve/"
   ]
  },
  {
   "cell_type": "markdown",
   "metadata": {},
   "source": [
    "## Primer 1: Iskanje najcenejše poti prenosa podatkov v TK omrežju \n",
    "\n",
    "Uporabljamo graf omrežja iz vaje 04. Sedaj vozlišča predstavljajo usmerjevalnike ter povezave predstavljajo omrežne povezave, pri čemer vrednost povezave predstavlja ceno prenosa 1 GB/s podatkov. Vsak usmerjevalnik (vozlišče) pa ima še dodatno omejitev, koliko podatkov lahko obdela (v GB/s). \n",
    "\n",
    "> The task uses network graph from Lab 04, however nodes represent TC routers and edges are network\n",
    "connections. Edge values represent a cost of transmission of 1 GB per second of data. There are\n",
    "additional constraints of each network node (router) on how much traffic each node can process, given\n",
    "in GBps. \n",
    "\n",
    "Naloga je naslednja: Iščemo najcenejše usmerjanje za prenos 5 GB/s podatkov iz vozlišča A preko omrežja v vozlišče H. Uporabljajo se lahko vzporedne poti prenosa.\n",
    " \n",
    "> The task is to find a cheapest routing of 5 GBs of traffic from node A through network to the destination \n",
    "node H. There can be parallel routes for each GB of traffic. \n",
    "\n",
    "\n",
    "\n",
    "> The maximum processing capacity of each node is given in the table:\n",
    "\n",
    "<table>\n",
    "<tr><td>Node: </td>                 <td>B</td><td>C</td><td>D</td><td>E</td><td>F</td><td>G</td><td>I</td></tr>\n",
    "<tr><td>Max capacity in GBs: </td>  <td>2</td><td>4</td><td>2</td><td>3</td><td>6</td><td>5</td><td>2</td></tr>\n",
    "</table>"
   ]
  },
  {
   "cell_type": "markdown",
   "metadata": {},
   "source": [
    "<img src=\"Omrezje.png\">"
   ]
  },
  {
   "cell_type": "markdown",
   "metadata": {},
   "source": [
    "<b>Zapis problema / Problem solution:</b>\n",
    "\n",
    "Kriterijska funkcija vključuje ceno povezave pomnoženo s prenosno hitrostjo (GBs), ki jo predstavlja spremenljivka, npr. ab. Spremenljivke povezav ab, ac, cb, .. so celoštevilske in predstavljajo hitrost prenosa po povezavi.\n",
    "\n",
    "> Criterion function will include a cost of each link multiplied by the GBs transmitted through the link. We need to find\n",
    "> a cheapest combination of GBs per each link, represented by variables ac, cb ..\n",
    "\n",
    "<code>min: + 15 ab + 13 ac +  ... </code>\n",
    "\n",
    "> The variables ab, ac, be .. are now integers (int) and represent GBs of data through each link.\n",
    "\n",
    "Za vsako vozlišče imamo dve omejitvi. Prva je razlika med izhodno in vhodno hitrostjo prometa, za izvorno vozlišče A je ta 5 GBs, za prehodna vozlišča pa 0. Druga omejitev pa je, da naj bo vsota vhodnega prometa manj ali enako kapaciteti obdelave podatkov vozlišča.\n",
    "\n",
    "> For each node, there are two constraints. First, the difference of incoming and outcoming traffic in GBs. For node A it is: \n",
    "\n",
    "<code>+ab + ac + ad = 5;</code>\n",
    "\n",
    "> The second constraint is the maximum processing capacity of the node, which means that <b>incoming</b> traffic should \n",
    "> be less or equal to the node capacity. We need to use slack variables to define equations, example for B:  \n",
    "\n",
    "<code> ab +cb +fb + b_slack = 2; </code>"
   ]
  },
  {
   "cell_type": "markdown",
   "metadata": {},
   "source": [
    "### Naloga 1\n",
    "Zapiši problem in preglej rešitev. Rešitev predstavi grafično kot sliko, tako da na sliko (graf povezav) dopišeš dobljene prenosne hitrosti po povezavah. \n"
   ]
  },
  {
   "cell_type": "markdown",
   "metadata": {
    "pycharm": {
     "name": "#%% md\n"
    }
   },
   "source": [
    "### Dodatna naloga 1.2 (Bonus)\n",
    "\n",
    "* Spremeni lastnosti povezav in vozlišč, da bo rezultat ena sama možna pot, brez paralelnih povezav, in komentiraj. \n",
    "* Preveri, ali je možno prenesti 10 GBs podatkov iz A v H. Po potrebi spremeni povezave in kapacitete vozlišč. \n",
    "\n",
    "\n"
   ]
  },
  {
   "cell_type": "markdown",
   "metadata": {},
   "source": [
    "## Primer 2: Problem optimiranja strežnikov in povezav \n",
    "> Selecting servers and optimizing links "
   ]
  },
  {
   "cell_type": "markdown",
   "metadata": {},
   "source": [
    "Ponudnik spletnih storitev želi optimizirati svojo infrastrukturo, torej strežnike in povezave. Cilj je povečati zaslužek, ki je razlika med prihodki ter stroški infrastrukture. \n",
    "\n",
    "> Web service provider is deciding how to build its infrastructure. The aim is of course to reduce the costs \n",
    "and increase the profit. \n",
    "\n",
    "Ponudnik lahko izbira med več lokacijami strežnikov, zakup vsake lokacije (strežnika) ima določeno ceno za ponujeno kapaciteto (hitrost, Tbs) strežnika. \n",
    "\n",
    ">The provider must select servers from several different locations. Each location offers server of given \n",
    "price and capacity. \n",
    "\n",
    "Podatki strežnikov / Server locations:\n",
    "<table>\n",
    "<tr><td>Server Location: </td>          <td>1</td>  <td>2</td>  <td>3</td>  <td>4</td>  </tr>\n",
    "<tr><td>Cost [ Eur] :</td>      <td>2000</td><td>3000</td><td>2000</td> <td>4000</td></tr>\n",
    "<tr><td>Bandwidth [Tbs] :</td>   <td>3</td><td>2</td><td>2</td> <td>4</td></tr>\n",
    "</table> \n",
    "\n",
    "\n",
    ">At the same time the provider has a list of clients (City) that require capacities. \n",
    "\n",
    "> Client requirements (bandwidth)\n",
    "\n",
    "<table>\n",
    "<tr><td>City: </td>             <td>1</td>  <td>2</td>  <td>3</td>  </tr>\n",
    "<tr><td>Bandwidth [Tbs] :</td>   <td>2.5</td><td>2</td><td>3</td> </tr>\n",
    "</table> \n",
    "\n",
    "Ponudnik mora torej izbrati lokacije (strežnike), ki jih bo zakupil, ter kapaciteto povezav do klientov (koliko podatkov bo posamezen klient- mesto dobivalo od posameznega strežnika). \n",
    "\n",
    "Ponudnik zaračunava strankam (mestom) podatkovni prenos (v TBs), pri čemer je cena prenosa enaka ne glede na lokacijo (server) in znaša 3000 Eur/TBs. Vsaka stranka (mesto) je lahko priključena na več strežnikov.\n",
    "\n",
    "> The provider must therefore decide which server locations it will lease and how will the clients be connected \n",
    "with these locations (which City/Client will be connected to which server Location). \n",
    " \n",
    "> The provider charges for the data connections (per TBs). The price of data traffic from Server to Client is constant \n",
    "> regardless of the location (3000 Eur/TBs). Each city can be connected to multiple servers. \n",
    ">   "
   ]
  },
  {
   "cell_type": "markdown",
   "metadata": {},
   "source": [
    "<img src=\"Vaja05a.png\">"
   ]
  },
  {
   "cell_type": "markdown",
   "metadata": {},
   "source": [
    "### Reševanje\n",
    "\n",
    "Kriterijska funkcija: maksimiranje zaslužka, ki je razlika med prihodki od strank, ter ceno zakupljenih strežnikov.\n",
    "\n",
    "Spremenljivke\n",
    "* c1s1 .. c3s4, predstavljajo hitrost prenosa podatkov med mestom (c) in lokacijo strežnika (s) v TBs. \n",
    "* L1 .. L4, binarne spremenljivke, ali je lokacija (strežnik) zakupljen. \n",
    "\n",
    "Omejitve:\n",
    "* Vsaka stranka ima določeno zahtevano podatkovno hitrost: npr. vsota prenosov c1s1 do c1s4 mora znašati 2.5 TBs.\n",
    "* Maksimalna kapaciteta strežnika ne sme biti prekoračena: npr. vsota c1s1 .. c4s1 <= 3 "
   ]
  },
  {
   "cell_type": "markdown",
   "metadata": {},
   "source": [
    "### Naloga 2: \n",
    "Zapiši problem v LPSolve, ter analiziraj in komentiraj rešitev (dobiček ponudnika). \n",
    "Rešitev prikaži v tabeli: Stolpci predstavljajo stranke (mesto 1,2,3), vrstice so strežniki (1,2,3,4), v celicah pa je podana kapaciteta prenosa med strežnikom in klientom. Za vsak strežnik še podaj njegovo morebitno preostalo neizkoriščeno kapaciteto (TBs). "
   ]
  },
  {
   "cell_type": "markdown",
   "metadata": {},
   "source": [
    "### Naloga 2.2 (Bonus):\n",
    "\n",
    "* Spremeni rešitev, tako da se cena prenosa (TBs) razlikuje za vsakega od klientov (mesto). Podaj rešitev v obliki tabele in \n",
    "komentiraj zalužek. \n",
    "\n",
    "* Dodaj dodatne stranke (mesta) ter strežnike, in preveri rešitev ter zalužek.\n",
    "\n",
    "<table>\n",
    "<tr><td>Server Location: </td>          <td>5</td>  <td>6</td></tr>\n",
    "<tr><td>Cost [Eur] :</td>               <td>2500</td><td>4000</td></tr>\n",
    "<tr><td>Bandwidth [Tbs] :</td>          <td>3</td><td>5</td></tr>\n",
    "</table> \n",
    "\n",
    "<table>\n",
    "<tr><td>City: </td>             <td>4</td>  <td>5</td>  <td>6</td> <td>7</td> </tr>\n",
    "<tr><td>Bandwidth [Tbs] :</td>   <td>4</td><td>2.5</td><td>1</td> <td>2</td></tr>\n",
    "</table> \n",
    "\n",
    "* Kako bi spremenil zapis problema, če bi bila cena strežnika podana kot cena za vsak TBs prenosa? Po potrebi spremeni cene strežnikov Eur/TBs.\n"
   ]
  },
  {
   "cell_type": "markdown",
   "metadata": {},
   "source": []
  }
 ],
 "metadata": {
  "kernelspec": {
   "display_name": "Python 3",
   "language": "python",
   "name": "python3"
  },
  "language_info": {
   "codemirror_mode": {
    "name": "ipython",
    "version": 3
   },
   "file_extension": ".py",
   "mimetype": "text/x-python",
   "name": "python",
   "nbconvert_exporter": "python",
   "pygments_lexer": "ipython3",
   "version": "3.6.9"
  },
  "pycharm": {
   "stem_cell": {
    "cell_type": "raw",
    "metadata": {
     "collapsed": false
    },
    "source": []
   }
  }
 },
 "nbformat": 4,
 "nbformat_minor": 4
}
